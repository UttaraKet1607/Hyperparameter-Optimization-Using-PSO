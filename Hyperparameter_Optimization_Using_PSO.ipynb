{
  "nbformat": 4,
  "nbformat_minor": 0,
  "metadata": {
    "kernelspec": {
      "display_name": "Python 3",
      "language": "python",
      "name": "python3"
    },
    "language_info": {
      "codemirror_mode": {
        "name": "ipython",
        "version": 3
      },
      "file_extension": ".py",
      "mimetype": "text/x-python",
      "name": "python",
      "nbconvert_exporter": "python",
      "pygments_lexer": "ipython3",
      "version": "3.7.4"
    },
    "colab": {
      "name": "Hyperparameter-Optimization-Using-PSO.ipynb",
      "provenance": [],
      "collapsed_sections": [],
      "include_colab_link": true
    }
  },
  "cells": [
    {
      "cell_type": "markdown",
      "metadata": {
        "id": "view-in-github",
        "colab_type": "text"
      },
      "source": [
        "<a href=\"https://colab.research.google.com/github/UttaraKet1607/Hyperparameter-Optimization-Using-PSO/blob/main/Hyperparameter_Optimization_Using_PSO.ipynb\" target=\"_parent\"><img src=\"https://colab.research.google.com/assets/colab-badge.svg\" alt=\"Open In Colab\"/></a>"
      ]
    },
    {
      "cell_type": "markdown",
      "metadata": {
        "id": "YCJst679yeeq"
      },
      "source": [
        "### Hyperparameter Optimization of CNN using Particle Swarm Optimization on Malarial cell images"
      ]
    },
    {
      "cell_type": "markdown",
      "metadata": {
        "id": "LThr-mOBvkR0"
      },
      "source": [
        "## 1) Data gathering \n",
        "[Download dataset](https://www.kaggle.com/iarunava/cell-images-for-detecting-malaria)\n",
        "### (a) Importing the required libraries"
      ]
    },
    {
      "cell_type": "code",
      "metadata": {
        "_cell_guid": "b1076dfc-b9ad-4769-8c92-a6c4dae69d19",
        "_uuid": "8f2839f25d086af736a60e9eeb907d3b93b6e0e5",
        "execution": {
          "iopub.execute_input": "2021-08-09T08:36:54.458390Z",
          "iopub.status.busy": "2021-08-09T08:36:54.458076Z",
          "iopub.status.idle": "2021-08-09T08:36:54.474878Z",
          "shell.execute_reply": "2021-08-09T08:36:54.474132Z",
          "shell.execute_reply.started": "2021-08-09T08:36:54.458338Z"
        },
        "id": "vSK89ZU9vkSD",
        "outputId": "7c0318f9-cc52-4673-d270-6597ff7017ad"
      },
      "source": [
        "import numpy as np # linear algebra\n",
        "import pandas as pd # data processing, CSV file I/O (e.g. pd.read_csv)\n",
        "\n",
        "import os\n",
        "print(os.listdir(\"../input\")) # Input data files are available in the \"../input/\" directory."
      ],
      "execution_count": null,
      "outputs": [
        {
          "name": "stdout",
          "output_type": "stream",
          "text": [
            "['cell_images']\n"
          ]
        }
      ]
    },
    {
      "cell_type": "code",
      "metadata": {
        "_uuid": "59c8fbc36e71ab5539bd1cc6034cf6886638c35c",
        "execution": {
          "iopub.execute_input": "2021-08-09T08:36:54.476706Z",
          "iopub.status.busy": "2021-08-09T08:36:54.476190Z",
          "iopub.status.idle": "2021-08-09T08:36:56.164122Z",
          "shell.execute_reply": "2021-08-09T08:36:56.163284Z",
          "shell.execute_reply.started": "2021-08-09T08:36:54.476657Z"
        },
        "id": "eDia6_aIvkSI",
        "outputId": "0840ee62-5f83-43a9-ed29-eb3e8298f696"
      },
      "source": [
        "import cv2\n",
        "import matplotlib.pyplot as plt \n",
        "import seaborn as sns\n",
        "import os\n",
        "from PIL import Image\n",
        "from keras.preprocessing.image import img_to_array\n",
        "from keras.preprocessing.image import load_img\n",
        "from keras.utils import np_utils"
      ],
      "execution_count": null,
      "outputs": [
        {
          "name": "stderr",
          "output_type": "stream",
          "text": [
            "Using TensorFlow backend.\n"
          ]
        }
      ]
    },
    {
      "cell_type": "markdown",
      "metadata": {
        "id": "Me8wwliYvkSL"
      },
      "source": [
        "### (b) Understanding the files in different data directories"
      ]
    },
    {
      "cell_type": "code",
      "metadata": {
        "_uuid": "7a661de01863787c99ada83afa636f8b3a9670f0",
        "execution": {
          "iopub.execute_input": "2021-08-09T08:36:56.166801Z",
          "iopub.status.busy": "2021-08-09T08:36:56.166502Z",
          "iopub.status.idle": "2021-08-09T08:36:56.186599Z",
          "shell.execute_reply": "2021-08-09T08:36:56.185900Z",
          "shell.execute_reply.started": "2021-08-09T08:36:56.166755Z"
        },
        "id": "AxyL_rohvkSM",
        "outputId": "23ad121e-c640-41d0-97ec-b55bcb00375c"
      },
      "source": [
        "parasitized_data = os.listdir('../input/cell_images/cell_images/Parasitized/') #specify the path of the required directory\n",
        "print(parasitized_data[:10]) #the output we get are the .png files\n",
        "\n",
        "uninfected_data = os.listdir('../input/cell_images/cell_images/Uninfected/') #specify the path of the required directory\n",
        "print('\\n')\n",
        "print(uninfected_data[:10])"
      ],
      "execution_count": null,
      "outputs": [
        {
          "name": "stdout",
          "output_type": "stream",
          "text": [
            "['C99P60ThinF_IMG_20150918_141001_cell_93.png', 'C99P60ThinF_IMG_20150918_141001_cell_133.png', 'C101P62ThinF_IMG_20150918_151942_cell_60.png', 'C162P123ThinF_IMG_20151116_102655_cell_163.png', 'C52P13thinF_IMG_20150725_124830_cell_174.png', 'C136P97ThinF_IMG_20151005_141803_cell_121.png', 'C48P9thinF_IMG_20150721_161243_cell_157.png', 'C137P98ThinF_IMG_20151005_163901_cell_80.png', 'C51AP12thinF_IMG_20150724_155046_cell_94.png', 'C51AP12thinF_IMG_20150724_161126_cell_118.png']\n",
            "\n",
            "\n",
            "['C203ThinF_IMG_20151029_102123_cell_51.png', 'C238NThinF_IMG_20151207_114038_cell_84.png', 'C119P80ThinF_IMG_20151002_124304_cell_112.png', 'C39P4thinF_original_IMG_20150622_111723_cell_33.png', 'C101P62ThinF_IMG_20150918_151149_cell_63.png', 'C180P141NThinF_IMG_20151201_165601_cell_115.png', 'C95P56ThinF_IMG_20150821_171603_cell_75.png', 'C236ThinF_IMG_20151127_102516_cell_177.png', 'C125P86ThinF_IMG_20151004_102053_cell_83.png', 'C49P10thinF_IMG_20150724_102330_cell_160.png']\n"
          ]
        }
      ]
    },
    {
      "cell_type": "markdown",
      "metadata": {
        "id": "OkdU47bwvkSN"
      },
      "source": [
        "## 2) Data Visualization\n",
        "### Class: Parasitized "
      ]
    },
    {
      "cell_type": "code",
      "metadata": {
        "_uuid": "6ba57170ddc6430f931117c37042d41d00e7b5ac",
        "execution": {
          "iopub.execute_input": "2021-08-09T08:36:56.188244Z",
          "iopub.status.busy": "2021-08-09T08:36:56.187778Z",
          "iopub.status.idle": "2021-08-09T08:36:57.068002Z",
          "shell.execute_reply": "2021-08-09T08:36:57.067100Z",
          "shell.execute_reply.started": "2021-08-09T08:36:56.188196Z"
        },
        "id": "KawOkXbxvkSP",
        "outputId": "ef63c8a8-62bc-4a6f-bda1-8495a64f18ba"
      },
      "source": [
        "plt.figure(figsize = (12,12))\n",
        "for i in range(4):\n",
        "    plt.subplot(1, 4, i+1)\n",
        "    img = cv2.imread('../input/cell_images/cell_images/Parasitized' + \"/\" + parasitized_data[i])\n",
        "    plt.imshow(img)\n",
        "    plt.title('PARASITIZED : 1')\n",
        "    plt.tight_layout()\n",
        "plt.show()"
      ],
      "execution_count": null,
      "outputs": [
        {
          "data": {
            "image/png": "[encoded data removed]",
            "text/plain": [
              "<Figure size 864x864 with 4 Axes>"
            ]
          },
          "metadata": {},
          "output_type": "display_data"
        }
      ]
    },
    {
      "cell_type": "markdown",
      "metadata": {
        "id": "hrFjExe-vkST"
      },
      "source": [
        "### Class: Uninfected"
      ]
    },
    {
      "cell_type": "code",
      "metadata": {
        "_uuid": "77567eb7e5a644c03498b58bfa38143c1035e211",
        "execution": {
          "iopub.execute_input": "2021-08-09T08:36:57.069816Z",
          "iopub.status.busy": "2021-08-09T08:36:57.069308Z",
          "iopub.status.idle": "2021-08-09T08:36:58.443243Z",
          "shell.execute_reply": "2021-08-09T08:36:58.442518Z",
          "shell.execute_reply.started": "2021-08-09T08:36:57.069763Z"
        },
        "id": "RwwqSKQAvkSU",
        "outputId": "89a041de-d240-44ac-818f-96961d63297e"
      },
      "source": [
        "plt.figure(figsize = (12,12))\n",
        "for i in range(4):\n",
        "    plt.subplot(1, 4, i+1)\n",
        "    img = cv2.imread('../input/cell_images/cell_images/Uninfected' + \"/\" + uninfected_data[i+1])\n",
        "    plt.imshow(img)\n",
        "    plt.title('UNINFECTED : 0')\n",
        "    plt.tight_layout()\n",
        "plt.show()"
      ],
      "execution_count": null,
      "outputs": [
        {
          "data": {
            "image/png": "[encoded data removed]",
            "text/plain": [
              "<Figure size 864x864 with 4 Axes>"
            ]
          },
          "metadata": {},
          "output_type": "display_data"
        }
      ]
    },
    {
      "cell_type": "markdown",
      "metadata": {
        "id": "n1pKec5fvkSW"
      },
      "source": [
        "## 3) Data Preprocessing"
      ]
    },
    {
      "cell_type": "code",
      "metadata": {
        "execution": {
          "iopub.execute_input": "2021-08-09T08:36:58.445009Z",
          "iopub.status.busy": "2021-08-09T08:36:58.444502Z",
          "iopub.status.idle": "2021-08-09T08:41:22.781635Z",
          "shell.execute_reply": "2021-08-09T08:41:22.780866Z",
          "shell.execute_reply.started": "2021-08-09T08:36:58.444960Z"
        },
        "id": "ueHVacQzvkSW"
      },
      "source": [
        "data = []\n",
        "labels = []\n",
        "for img in parasitized_data:\n",
        "    try:\n",
        "        img_read = plt.imread('../input/cell_images/cell_images/Parasitized/' + \"/\" + img)\n",
        "        img_resize = cv2.resize(img_read, (50, 50))\n",
        "        img_array = img_to_array(img_resize)\n",
        "        data.append(img_array)\n",
        "        labels.append(1)\n",
        "    except:\n",
        "        None\n",
        "        \n",
        "for img in uninfected_data:\n",
        "    try:\n",
        "        img_read = plt.imread('../input/cell_images/cell_images/Uninfected' + \"/\" + img)\n",
        "        img_resize = cv2.resize(img_read, (50, 50))\n",
        "        img_array = img_to_array(img_resize)\n",
        "        data.append(img_array)\n",
        "        labels.append(0)\n",
        "    except:\n",
        "        None"
      ],
      "execution_count": null,
      "outputs": []
    },
    {
      "cell_type": "code",
      "metadata": {
        "_uuid": "edb2d2f12c9f683c12f546741ec50f0512a49b5c",
        "execution": {
          "iopub.execute_input": "2021-08-09T08:41:22.783098Z",
          "iopub.status.busy": "2021-08-09T08:41:22.782821Z",
          "iopub.status.idle": "2021-08-09T08:41:22.919751Z",
          "shell.execute_reply": "2021-08-09T08:41:22.918829Z",
          "shell.execute_reply.started": "2021-08-09T08:41:22.783054Z"
        },
        "id": "k9QAkhxJvkSX",
        "outputId": "90bd1782-8aca-4157-fdc6-3277b877341f"
      },
      "source": [
        "plt.imshow(data[0])\n",
        "plt.show()"
      ],
      "execution_count": null,
      "outputs": [
        {
          "data": {
            "image/png": "[encoded data removed]",
            "text/plain": [
              "<Figure size 432x288 with 1 Axes>"
            ]
          },
          "metadata": {},
          "output_type": "display_data"
        }
      ]
    },
    {
      "cell_type": "code",
      "metadata": {
        "_uuid": "a610fb95dcf4f138e0484348297116429563af89",
        "execution": {
          "iopub.execute_input": "2021-08-09T08:41:22.921365Z",
          "iopub.status.busy": "2021-08-09T08:41:22.921090Z",
          "iopub.status.idle": "2021-08-09T08:41:23.480427Z",
          "shell.execute_reply": "2021-08-09T08:41:23.479628Z",
          "shell.execute_reply.started": "2021-08-09T08:41:22.921320Z"
        },
        "id": "SsH4Ozw8vkSY"
      },
      "source": [
        "image_data = np.array(data)\n",
        "labels = np.array(labels)"
      ],
      "execution_count": null,
      "outputs": []
    },
    {
      "cell_type": "code",
      "metadata": {
        "_uuid": "8e7e836f2f44aac1151fe7ceabac77f9d1795cc9",
        "execution": {
          "iopub.execute_input": "2021-08-09T08:41:23.482048Z",
          "iopub.status.busy": "2021-08-09T08:41:23.481780Z",
          "iopub.status.idle": "2021-08-09T08:41:24.017780Z",
          "shell.execute_reply": "2021-08-09T08:41:24.017056Z",
          "shell.execute_reply.started": "2021-08-09T08:41:23.482003Z"
        },
        "id": "d5rHhyeyvkSZ"
      },
      "source": [
        "idx = np.arange(image_data.shape[0])\n",
        "np.random.shuffle(idx)\n",
        "image_data = image_data[idx]\n",
        "labels = labels[idx]"
      ],
      "execution_count": null,
      "outputs": []
    },
    {
      "cell_type": "markdown",
      "metadata": {
        "id": "XNOfzzsFvkSa"
      },
      "source": [
        "## 4) Splitting the data into train and test followed by label encoding"
      ]
    },
    {
      "cell_type": "code",
      "metadata": {
        "_uuid": "e6951926a19ee22f750e522b71e682e2bedef338",
        "execution": {
          "iopub.execute_input": "2021-08-09T08:41:24.019633Z",
          "iopub.status.busy": "2021-08-09T08:41:24.019163Z",
          "iopub.status.idle": "2021-08-09T08:41:24.852215Z",
          "shell.execute_reply": "2021-08-09T08:41:24.851471Z",
          "shell.execute_reply.started": "2021-08-09T08:41:24.019411Z"
        },
        "id": "XxAlZwPEvkSb"
      },
      "source": [
        "from sklearn.model_selection import train_test_split\n",
        "x_train, x_test, y_train, y_test = train_test_split(image_data, labels, test_size = 0.2, random_state = 101)"
      ],
      "execution_count": null,
      "outputs": []
    },
    {
      "cell_type": "code",
      "metadata": {
        "_uuid": "3bf22f4982ba4f15f2f89307568f09fdcfa852ee",
        "execution": {
          "iopub.execute_input": "2021-08-09T08:41:24.854399Z",
          "iopub.status.busy": "2021-08-09T08:41:24.853923Z",
          "iopub.status.idle": "2021-08-09T08:41:24.860133Z",
          "shell.execute_reply": "2021-08-09T08:41:24.859288Z",
          "shell.execute_reply.started": "2021-08-09T08:41:24.854204Z"
        },
        "id": "FWMvGnXnvkSc"
      },
      "source": [
        "y_train = np_utils.to_categorical(y_train, num_classes = 2)\n",
        "y_test = np_utils.to_categorical(y_test, num_classes = 2)"
      ],
      "execution_count": null,
      "outputs": []
    },
    {
      "cell_type": "code",
      "metadata": {
        "_uuid": "e9125664ed8cde29e36576928e32900fd200564e",
        "execution": {
          "iopub.execute_input": "2021-08-09T08:41:24.862338Z",
          "iopub.status.busy": "2021-08-09T08:41:24.861815Z",
          "iopub.status.idle": "2021-08-09T08:41:24.870363Z",
          "shell.execute_reply": "2021-08-09T08:41:24.869263Z",
          "shell.execute_reply.started": "2021-08-09T08:41:24.862246Z"
        },
        "id": "P4gh1OHgvkSc",
        "outputId": "30549098-288f-423e-8aa1-b95e9178fdb8"
      },
      "source": [
        "print(f'SHAPE OF TRAINING IMAGE DATA : {x_train.shape}')\n",
        "print(f'SHAPE OF TESTING IMAGE DATA : {x_test.shape}')\n",
        "print(f'SHAPE OF TRAINING LABELS : {y_train.shape}')\n",
        "print(f'SHAPE OF TESTING LABELS : {y_test.shape}')"
      ],
      "execution_count": null,
      "outputs": [
        {
          "name": "stdout",
          "output_type": "stream",
          "text": [
            "SHAPE OF TRAINING IMAGE DATA : (22046, 50, 50, 3)\n",
            "SHAPE OF TESTING IMAGE DATA : (5512, 50, 50, 3)\n",
            "SHAPE OF TRAINING LABELS : (22046, 2)\n",
            "SHAPE OF TESTING LABELS : (5512, 2)\n"
          ]
        }
      ]
    },
    {
      "cell_type": "markdown",
      "metadata": {
        "id": "gYjABfQPvkSd"
      },
      "source": [
        "## 5) Hyperparameter optimization of CNN"
      ]
    },
    {
      "cell_type": "code",
      "metadata": {
        "execution": {
          "iopub.execute_input": "2021-08-09T08:41:24.872121Z",
          "iopub.status.busy": "2021-08-09T08:41:24.871806Z",
          "iopub.status.idle": "2021-08-09T08:41:31.228420Z",
          "shell.execute_reply": "2021-08-09T08:41:31.227538Z",
          "shell.execute_reply.started": "2021-08-09T08:41:24.872061Z"
        },
        "id": "M94NHpZ7vkSe",
        "outputId": "a3b5f2f1-8fd9-487e-ae4a-452784fbc341"
      },
      "source": [
        "!pip install hyperactive==0.3.1  #https://pypi.org/project/hyperactive/0.3.1/\n",
        "import hyperactive as hyp"
      ],
      "execution_count": null,
      "outputs": [
        {
          "name": "stdout",
          "output_type": "stream",
          "text": [
            "Collecting hyperactive==0.3.1\n",
            "  Downloading https://files.pythonhosted.org/packages/1e/08/6dda80ce0550786511edccca77e12f5a642de0f89afcc888542e622eb2e8/hyperactive-0.3.1-py3-none-any.whl\n",
            "Requirement already satisfied: numpy in /opt/conda/lib/python3.6/site-packages (from hyperactive==0.3.1) (1.16.1)\n",
            "Requirement already satisfied: keras in /opt/conda/lib/python3.6/site-packages (from hyperactive==0.3.1) (2.2.4)\n",
            "Requirement already satisfied: tqdm in /opt/conda/lib/python3.6/site-packages (from hyperactive==0.3.1) (4.31.1)\n",
            "Requirement already satisfied: scikit-learn>=0.18 in /opt/conda/lib/python3.6/site-packages (from hyperactive==0.3.1) (0.20.2)\n",
            "Requirement already satisfied: keras-applications>=1.0.6 in /opt/conda/lib/python3.6/site-packages (from keras->hyperactive==0.3.1) (1.0.7)\n",
            "Requirement already satisfied: six>=1.9.0 in /opt/conda/lib/python3.6/site-packages (from keras->hyperactive==0.3.1) (1.12.0)\n",
            "Requirement already satisfied: scipy>=0.14 in /opt/conda/lib/python3.6/site-packages (from keras->hyperactive==0.3.1) (1.1.0)\n",
            "Requirement already satisfied: h5py in /opt/conda/lib/python3.6/site-packages (from keras->hyperactive==0.3.1) (2.9.0)\n",
            "Requirement already satisfied: pyyaml in /opt/conda/lib/python3.6/site-packages (from keras->hyperactive==0.3.1) (3.12)\n",
            "Requirement already satisfied: keras-preprocessing>=1.0.5 in /opt/conda/lib/python3.6/site-packages (from keras->hyperactive==0.3.1) (1.0.9)\n",
            "Installing collected packages: hyperactive\n",
            "Successfully installed hyperactive-0.3.1\n",
            "\u001b[33mYou are using pip version 18.1, however version 21.2.3 is available.\n",
            "You should consider upgrading via the 'pip install --upgrade pip' command.\u001b[0m\n"
          ]
        }
      ]
    },
    {
      "cell_type": "code",
      "metadata": {
        "execution": {
          "iopub.execute_input": "2021-08-09T08:41:31.230571Z",
          "iopub.status.busy": "2021-08-09T08:41:31.230058Z",
          "iopub.status.idle": "2021-08-09T08:41:31.264807Z",
          "shell.execute_reply": "2021-08-09T08:41:31.264185Z",
          "shell.execute_reply.started": "2021-08-09T08:41:31.230434Z"
        },
        "id": "91vnx4JQvkSf"
      },
      "source": [
        "# this defines the structure of the model and print(\"time: {}\".format(t2-t1))the search space in each layer\n",
        "search_config = {\n",
        "    \"keras.compile.0\": {\"loss\": [\"binary_crossentropy\"], \"optimizer\": [\"adam\"]},\n",
        "    \"keras.fit.0\": {\"epochs\": [15], \"batch_size\": [500], \"verbose\": [2]},\n",
        "    \"keras.layers.Conv2D.1\": {\n",
        "        \"filters\": [32, 64, 128],\n",
        "        #\"kernel_size\": range(3, 4),\n",
        "        \"kernel_size\": [(3, 3)],\n",
        "        \"activation\": [\"relu\"],\n",
        "        \"input_shape\": [(50, 50, 3)],\n",
        "    },\n",
        "    \"keras.layers.MaxPooling2D.2\": {\"pool_size\": [(2, 2)]},\n",
        "    \"keras.layers.Conv2D.3\": {\n",
        "        \"filters\": [16, 32, 64, 128],\n",
        "        \"kernel_size\": [(3, 3)],\n",
        "        \"activation\": [\"relu\"],\n",
        "    },\n",
        "    \"keras.layers.MaxPooling2D.4\": {\"pool_size\": [(2, 2)]},\n",
        "    \"keras.layers.Flatten.5\": {},\n",
        "    #\"keras.layers.Dense.6\": {\"units\": [30], \"activation\": [\"relu\"]},\n",
        "    \"keras.layers.Dense.6\": {\"units\": range(30, 100, 10), \"activation\": [\"relu\"]},\n",
        "    #\"keras.layers.Dropout.7\": {\"rate\": 0.4},\n",
        "    \"keras.layers.Dropout.7\": {\"rate\": list(np.arange(0.2, 0.8, 0.2))},\n",
        "    \"keras.layers.Dense.8\": {\"units\": [2], \"activation\": [\"softmax\"]},\n",
        "}\n",
        "\n",
        "start_point = {\n",
        "    \"keras.compile.0\": {\"loss\": [\"binary_crossentropy\"], \"optimizer\": [\"adam\"]},\n",
        "    \"keras.fit.0\": {\"epochs\": [15], \"batch_size\": [500], \"verbose\": [2]},\n",
        "    \"keras.layers.Conv2D.1\": {\n",
        "        \"filters\": [64],\n",
        "        \"kernel_size\": [(3, 3)],\n",
        "        \"activation\": [\"relu\"],\n",
        "        \"input_shape\": [(50,50, 3)],\n",
        "    },\n",
        "    \"keras.layers.MaxPooling2D.2\": {\"pool_size\": [(2, 2)]},\n",
        "    \"keras.layers.Conv2D.3\": {\n",
        "        \"filters\": [32],\n",
        "        \"kernel_size\": [(3, 3)],\n",
        "        \"activation\": [\"relu\"],\n",
        "    },\n",
        "    \"keras.layers.MaxPooling2D.4\": {\"pool_size\": [(2, 2)]},\n",
        "    \"keras.layers.Flatten.5\": {},\n",
        "    \"keras.layers.Dense.6\": {\"units\": [30], \"activation\": [\"relu\"]},\n",
        "    \"keras.layers.Dropout.7\": {\"rate\": [0.2]},\n",
        "    \"keras.layers.Dense.8\": {\"units\": [2], \"activation\": [\"softmax\"]},\n",
        "}\n",
        "\n",
        "#https://pypi.org/project/hyperactive/0.3.1/ \n",
        "Optimizer = hyp.ParticleSwarmOptimizer(search_config, n_iter=5,warm_start=start_point, metric=\"accuracy\", n_jobs=1, cv=5, verbosity=1, random_state=42, n_part=5, w=0.85, c_k=1.9, c_s=2.05)"
      ],
      "execution_count": null,
      "outputs": []
    },
    {
      "cell_type": "code",
      "metadata": {
        "execution": {
          "iopub.execute_input": "2021-08-09T08:41:31.266440Z",
          "iopub.status.busy": "2021-08-09T08:41:31.266044Z",
          "iopub.status.idle": "2021-08-09T08:56:42.783823Z",
          "shell.execute_reply": "2021-08-09T08:56:42.782228Z",
          "shell.execute_reply.started": "2021-08-09T08:41:31.266357Z"
        },
        "id": "Xdia_1envkSh",
        "outputId": "7d50af5f-d7b1-4cfc-9018-19a1521c06ef"
      },
      "source": [
        "import time\n",
        "t1 = time.time()\n",
        "# search best hyperparameter for given data\n",
        "h = Optimizer.fit(x_train, y_train)\n",
        "\n",
        "t2 = time.time()\n",
        "print(\"time: {}\".format(t2-t1))\n",
        "\n",
        "# predict from test data\n",
        "Optimizer.predict(x_test)\n",
        "\n",
        "# calculate accuracy score\n",
        "score = Optimizer.score(x_test, y_test)\n",
        "\n",
        "print(\"test score: {}\".format(score))"
      ],
      "execution_count": null,
      "outputs": [
        {
          "name": "stdout",
          "output_type": "stream",
          "text": [
            "Epoch 1/15\n",
            " - 5s - loss: 0.6532 - acc: 0.6087\n",
            "Epoch 2/15\n",
            " - 2s - loss: 0.6110 - acc: 0.6745\n",
            "Epoch 3/15\n",
            " - 2s - loss: 0.5413 - acc: 0.7423\n",
            "Epoch 4/15\n",
            " - 2s - loss: 0.4874 - acc: 0.7804\n",
            "Epoch 5/15\n",
            " - 2s - loss: 0.3895 - acc: 0.8368\n",
            "Epoch 6/15\n",
            " - 2s - loss: 0.3148 - acc: 0.8775\n",
            "Epoch 7/15\n",
            " - 2s - loss: 0.2785 - acc: 0.8895\n",
            "Epoch 8/15\n",
            " - 2s - loss: 0.2403 - acc: 0.9053\n",
            "Epoch 9/15\n",
            " - 2s - loss: 0.2103 - acc: 0.9156\n",
            "Epoch 10/15\n",
            " - 2s - loss: 0.1950 - acc: 0.9218\n",
            "Epoch 11/15\n",
            " - 2s - loss: 0.1837 - acc: 0.9274\n",
            "Epoch 12/15\n",
            " - 2s - loss: 0.1895 - acc: 0.9292\n",
            "Epoch 13/15\n",
            " - 2s - loss: 0.1653 - acc: 0.9341\n",
            "Epoch 14/15\n",
            " - 2s - loss: 0.1584 - acc: 0.9418\n",
            "Epoch 15/15\n",
            " - 2s - loss: 0.1537 - acc: 0.9477\n",
            "22046/22046 [==============================] - 1s 66us/step\n"
          ]
        },
        {
          "name": "stderr",
          "output_type": "stream",
          "text": [
            "  0%|          | 0/5 [00:00<?, ?it/s]"
          ]
        },
        {
          "name": "stdout",
          "output_type": "stream",
          "text": [
            "Epoch 1/15\n",
            " - 2s - loss: 0.6453 - acc: 0.6179\n",
            "Epoch 2/15\n",
            " - 1s - loss: 0.5827 - acc: 0.7011\n",
            "Epoch 3/15\n",
            " - 1s - loss: 0.5407 - acc: 0.7391\n",
            "Epoch 4/15\n",
            " - 1s - loss: 0.4796 - acc: 0.7804\n",
            "Epoch 5/15\n",
            " - 1s - loss: 0.4159 - acc: 0.8177\n",
            "Epoch 6/15\n",
            " - 1s - loss: 0.3192 - acc: 0.8704\n",
            "Epoch 7/15\n",
            " - 1s - loss: 0.2688 - acc: 0.8938\n",
            "Epoch 8/15\n",
            " - 1s - loss: 0.2251 - acc: 0.9107\n",
            "Epoch 9/15\n",
            " - 1s - loss: 0.2066 - acc: 0.9183\n",
            "Epoch 10/15\n",
            " - 1s - loss: 0.1959 - acc: 0.9235\n",
            "Epoch 11/15\n",
            " - 1s - loss: 0.2044 - acc: 0.9218\n",
            "Epoch 12/15\n",
            " - 1s - loss: 0.1731 - acc: 0.9341\n",
            "Epoch 13/15\n",
            " - 1s - loss: 0.1630 - acc: 0.9418\n",
            "Epoch 14/15\n",
            " - 1s - loss: 0.1553 - acc: 0.9442\n",
            "Epoch 15/15\n",
            " - 1s - loss: 0.1500 - acc: 0.9466\n",
            "22046/22046 [==============================] - 1s 64us/step\n",
            "Epoch 1/15\n",
            " - 2s - loss: 0.6693 - acc: 0.5900\n",
            "Epoch 2/15\n",
            " - 2s - loss: 0.5916 - acc: 0.6968\n",
            "Epoch 3/15\n",
            " - 2s - loss: 0.5325 - acc: 0.7492\n",
            "Epoch 4/15\n",
            " - 2s - loss: 0.4387 - acc: 0.8131\n",
            "Epoch 5/15\n",
            " - 2s - loss: 0.3213 - acc: 0.8712\n",
            "Epoch 6/15\n",
            " - 2s - loss: 0.2565 - acc: 0.9013\n",
            "Epoch 7/15\n",
            " - 2s - loss: 0.2267 - acc: 0.9103\n",
            "Epoch 8/15\n",
            " - 2s - loss: 0.1980 - acc: 0.9251\n",
            "Epoch 9/15\n",
            " - 2s - loss: 0.1835 - acc: 0.9274\n",
            "Epoch 10/15\n",
            " - 2s - loss: 0.1738 - acc: 0.9324\n",
            "Epoch 11/15\n",
            " - 2s - loss: 0.1710 - acc: 0.9324\n",
            "Epoch 12/15\n",
            " - 2s - loss: 0.1674 - acc: 0.9354\n",
            "Epoch 13/15\n",
            " - 2s - loss: 0.1525 - acc: 0.9483\n",
            "Epoch 14/15\n",
            " - 2s - loss: 0.1541 - acc: 0.9497\n",
            "Epoch 15/15\n",
            " - 2s - loss: 0.1508 - acc: 0.9517\n",
            "22046/22046 [==============================] - 2s 77us/step\n",
            "Epoch 1/15\n",
            " - 3s - loss: 0.6956 - acc: 0.5207\n",
            "Epoch 2/15\n",
            " - 2s - loss: 0.6571 - acc: 0.6225\n",
            "Epoch 3/15\n",
            " - 2s - loss: 0.6416 - acc: 0.6591\n",
            "Epoch 4/15\n",
            " - 2s - loss: 0.6005 - acc: 0.7105\n",
            "Epoch 5/15\n",
            " - 2s - loss: 0.5490 - acc: 0.7527\n",
            "Epoch 6/15\n",
            " - 2s - loss: 0.4219 - acc: 0.8646\n",
            "Epoch 7/15\n",
            " - 2s - loss: 0.3300 - acc: 0.9123\n",
            "Epoch 8/15\n",
            " - 2s - loss: 0.2880 - acc: 0.9284\n",
            "Epoch 9/15\n",
            " - 2s - loss: 0.2463 - acc: 0.9383\n",
            "Epoch 10/15\n",
            " - 2s - loss: 0.2177 - acc: 0.9421\n",
            "Epoch 11/15\n",
            " - 2s - loss: 0.2037 - acc: 0.9435\n",
            "Epoch 12/15\n",
            " - 2s - loss: 0.2017 - acc: 0.9407\n",
            "Epoch 13/15\n",
            " - 2s - loss: 0.1821 - acc: 0.9446\n",
            "Epoch 14/15\n",
            " - 2s - loss: 0.1719 - acc: 0.9488\n",
            "Epoch 15/15\n",
            " - 2s - loss: 0.1630 - acc: 0.9505\n",
            "22046/22046 [==============================] - 2s 88us/step\n",
            "Epoch 1/15\n",
            " - 3s - loss: 0.6697 - acc: 0.5888\n",
            "Epoch 2/15\n",
            " - 3s - loss: 0.5679 - acc: 0.7173\n",
            "Epoch 3/15\n",
            " - 3s - loss: 0.4543 - acc: 0.7957\n",
            "Epoch 4/15\n",
            " - 3s - loss: 0.2880 - acc: 0.8860\n",
            "Epoch 5/15\n",
            " - 3s - loss: 0.2321 - acc: 0.9091\n",
            "Epoch 6/15\n",
            " - 3s - loss: 0.2007 - acc: 0.9219\n",
            "Epoch 7/15\n",
            " - 3s - loss: 0.1989 - acc: 0.9244\n",
            "Epoch 8/15\n",
            " - 3s - loss: 0.1768 - acc: 0.9321\n",
            "Epoch 9/15\n",
            " - 3s - loss: 0.1579 - acc: 0.9395\n",
            "Epoch 10/15\n",
            " - 3s - loss: 0.1544 - acc: 0.9453\n",
            "Epoch 11/15\n",
            " - 3s - loss: 0.1371 - acc: 0.9510\n",
            "Epoch 12/15\n",
            " - 3s - loss: 0.1270 - acc: 0.9555\n",
            "Epoch 13/15\n",
            " - 3s - loss: 0.1134 - acc: 0.9596\n",
            "Epoch 14/15\n",
            " - 3s - loss: 0.1075 - acc: 0.9613\n",
            "Epoch 15/15\n",
            " - 3s - loss: 0.1161 - acc: 0.9580\n",
            "22046/22046 [==============================] - 2s 99us/step\n",
            "Epoch 1/15\n",
            " - 2s - loss: 0.7098 - acc: 0.5398\n",
            "Epoch 2/15\n",
            " - 1s - loss: 0.6589 - acc: 0.5817\n",
            "Epoch 3/15\n",
            " - 1s - loss: 0.6382 - acc: 0.6064\n",
            "Epoch 4/15\n",
            " - 1s - loss: 0.6113 - acc: 0.6450\n",
            "Epoch 5/15\n",
            " - 1s - loss: 0.5973 - acc: 0.6568\n",
            "Epoch 6/15\n",
            " - 1s - loss: 0.5563 - acc: 0.7056\n",
            "Epoch 7/15\n",
            " - 1s - loss: 0.5147 - acc: 0.7478\n",
            "Epoch 8/15\n",
            " - 1s - loss: 0.4605 - acc: 0.7873\n",
            "Epoch 9/15\n",
            " - 1s - loss: 0.4062 - acc: 0.8048\n",
            "Epoch 10/15\n",
            " - 1s - loss: 0.3571 - acc: 0.8209\n",
            "Epoch 11/15\n",
            " - 1s - loss: 0.3312 - acc: 0.8239\n",
            "Epoch 12/15\n",
            " - 1s - loss: 0.2981 - acc: 0.8316\n",
            "Epoch 13/15\n",
            " - 1s - loss: 0.2901 - acc: 0.8580\n",
            "Epoch 14/15\n",
            " - 1s - loss: 0.2657 - acc: 0.8956\n",
            "Epoch 15/15\n",
            " - 1s - loss: 0.2519 - acc: 0.9086\n",
            "22046/22046 [==============================] - 2s 78us/step\n"
          ]
        },
        {
          "name": "stderr",
          "output_type": "stream",
          "text": [
            " 20%|██        | 1/5 [02:29<09:56, 149.08s/it]"
          ]
        },
        {
          "name": "stdout",
          "output_type": "stream",
          "text": [
            "Epoch 1/15\n",
            " - 2s - loss: 0.6655 - acc: 0.5961\n",
            "Epoch 2/15\n",
            " - 1s - loss: 0.6022 - acc: 0.6809\n",
            "Epoch 3/15\n",
            " - 1s - loss: 0.5506 - acc: 0.7305\n",
            "Epoch 4/15\n",
            " - 1s - loss: 0.5043 - acc: 0.7646\n",
            "Epoch 5/15\n",
            " - 1s - loss: 0.4289 - acc: 0.8176\n",
            "Epoch 6/15\n",
            " - 1s - loss: 0.3473 - acc: 0.8621\n",
            "Epoch 7/15\n",
            " - 1s - loss: 0.2871 - acc: 0.8882\n",
            "Epoch 8/15\n",
            " - 1s - loss: 0.2446 - acc: 0.9070\n",
            "Epoch 9/15\n",
            " - 1s - loss: 0.2201 - acc: 0.9165\n",
            "Epoch 10/15\n",
            " - 1s - loss: 0.2047 - acc: 0.9208\n",
            "Epoch 11/15\n",
            " - 1s - loss: 0.1908 - acc: 0.9285\n",
            "Epoch 12/15\n",
            " - 1s - loss: 0.1798 - acc: 0.9332\n",
            "Epoch 13/15\n",
            " - 1s - loss: 0.1749 - acc: 0.9370\n",
            "Epoch 14/15\n",
            " - 1s - loss: 0.1635 - acc: 0.9414\n",
            "Epoch 15/15\n",
            " - 1s - loss: 0.1535 - acc: 0.9457\n",
            "22046/22046 [==============================] - 2s 80us/step\n",
            "Epoch 1/15\n",
            " - 3s - loss: 0.6738 - acc: 0.5870\n",
            "Epoch 2/15\n",
            " - 2s - loss: 0.6042 - acc: 0.6786\n",
            "Epoch 3/15\n",
            " - 2s - loss: 0.5299 - acc: 0.7446\n",
            "Epoch 4/15\n",
            " - 2s - loss: 0.4260 - acc: 0.8123\n",
            "Epoch 5/15\n",
            " - 2s - loss: 0.2868 - acc: 0.8895\n",
            "Epoch 6/15\n",
            " - 2s - loss: 0.2241 - acc: 0.9168\n",
            "Epoch 7/15\n",
            " - 2s - loss: 0.1898 - acc: 0.9304\n",
            "Epoch 8/15\n",
            " - 2s - loss: 0.1703 - acc: 0.9386\n",
            "Epoch 9/15\n",
            " - 2s - loss: 0.1598 - acc: 0.9433\n",
            "Epoch 10/15\n",
            " - 2s - loss: 0.1544 - acc: 0.9445\n",
            "Epoch 11/15\n",
            " - 2s - loss: 0.1400 - acc: 0.9514\n",
            "Epoch 12/15\n",
            " - 2s - loss: 0.1382 - acc: 0.9522\n",
            "Epoch 13/15\n",
            " - 2s - loss: 0.1301 - acc: 0.9552\n",
            "Epoch 14/15\n",
            " - 2s - loss: 0.1587 - acc: 0.9428\n",
            "Epoch 15/15\n",
            " - 2s - loss: 0.1178 - acc: 0.9591\n",
            "22046/22046 [==============================] - 2s 103us/step\n",
            "Epoch 1/15\n",
            " - 3s - loss: 0.6528 - acc: 0.6155\n",
            "Epoch 2/15\n",
            " - 2s - loss: 0.5701 - acc: 0.7222\n",
            "Epoch 3/15\n",
            " - 2s - loss: 0.4421 - acc: 0.8216\n",
            "Epoch 4/15\n",
            " - 2s - loss: 0.3271 - acc: 0.8826\n",
            "Epoch 5/15\n",
            " - 2s - loss: 0.2471 - acc: 0.9120\n",
            "Epoch 6/15\n",
            " - 2s - loss: 0.2232 - acc: 0.9197\n",
            "Epoch 7/15\n",
            " - 2s - loss: 0.2190 - acc: 0.9227\n",
            "Epoch 8/15\n",
            " - 2s - loss: 0.1883 - acc: 0.9296\n",
            "Epoch 9/15\n",
            " - 2s - loss: 0.1837 - acc: 0.9326\n",
            "Epoch 10/15\n",
            " - 2s - loss: 0.1698 - acc: 0.9363\n",
            "Epoch 11/15\n",
            " - 2s - loss: 0.1714 - acc: 0.9340\n",
            "Epoch 12/15\n",
            " - 2s - loss: 0.1516 - acc: 0.9402\n",
            "Epoch 13/15\n",
            " - 2s - loss: 0.1450 - acc: 0.9423\n",
            "Epoch 14/15\n",
            " - 2s - loss: 0.1352 - acc: 0.9427\n",
            "Epoch 15/15\n",
            " - 2s - loss: 0.1301 - acc: 0.9490\n",
            "22046/22046 [==============================] - 2s 95us/step\n",
            "Epoch 1/15\n",
            " - 3s - loss: 0.6824 - acc: 0.5788\n",
            "Epoch 2/15\n",
            " - 2s - loss: 0.5910 - acc: 0.6898\n",
            "Epoch 3/15\n",
            " - 2s - loss: 0.5076 - acc: 0.7614\n",
            "Epoch 4/15\n",
            " - 2s - loss: 0.3577 - acc: 0.8517\n",
            "Epoch 5/15\n",
            " - 2s - loss: 0.2595 - acc: 0.8983\n",
            "Epoch 6/15\n",
            " - 2s - loss: 0.2279 - acc: 0.9103\n",
            "Epoch 7/15\n",
            " - 2s - loss: 0.2097 - acc: 0.9170\n",
            "Epoch 8/15\n",
            " - 2s - loss: 0.1883 - acc: 0.9277\n",
            "Epoch 9/15\n",
            " - 2s - loss: 0.1799 - acc: 0.9294\n",
            "Epoch 10/15\n",
            " - 2s - loss: 0.1653 - acc: 0.9352\n",
            "Epoch 11/15\n",
            " - 2s - loss: 0.1493 - acc: 0.9406\n",
            "Epoch 12/15\n",
            " - 2s - loss: 0.1497 - acc: 0.9423\n",
            "Epoch 13/15\n",
            " - 2s - loss: 0.1567 - acc: 0.9399\n",
            "Epoch 14/15\n",
            " - 2s - loss: 0.1539 - acc: 0.9379\n",
            "Epoch 15/15\n",
            " - 2s - loss: 0.1277 - acc: 0.9520\n",
            "22046/22046 [==============================] - 2s 106us/step\n",
            "Epoch 1/15\n",
            " - 2s - loss: 0.6686 - acc: 0.5911\n",
            "Epoch 2/15\n",
            " - 1s - loss: 0.5793 - acc: 0.7022\n",
            "Epoch 3/15\n",
            " - 1s - loss: 0.4866 - acc: 0.7756\n",
            "Epoch 4/15\n",
            " - 1s - loss: 0.3486 - acc: 0.8646\n",
            "Epoch 5/15\n",
            " - 1s - loss: 0.2460 - acc: 0.9088\n",
            "Epoch 6/15\n",
            " - 1s - loss: 0.2023 - acc: 0.9264\n",
            "Epoch 7/15\n",
            " - 1s - loss: 0.1814 - acc: 0.9370\n",
            "Epoch 8/15\n",
            " - 1s - loss: 0.1675 - acc: 0.9418\n",
            "Epoch 9/15\n",
            " - 1s - loss: 0.1581 - acc: 0.9456\n",
            "Epoch 10/15\n",
            " - 1s - loss: 0.1441 - acc: 0.9523\n",
            "Epoch 11/15\n",
            " - 1s - loss: 0.1346 - acc: 0.9549\n",
            "Epoch 12/15\n",
            " - 1s - loss: 0.1285 - acc: 0.9563\n",
            "Epoch 13/15\n",
            " - 1s - loss: 0.1234 - acc: 0.9570\n",
            "Epoch 14/15\n",
            " - 1s - loss: 0.1177 - acc: 0.9594\n",
            "Epoch 15/15\n",
            " - 1s - loss: 0.1117 - acc: 0.9614\n",
            "22046/22046 [==============================] - 2s 85us/step\n"
          ]
        },
        {
          "name": "stderr",
          "output_type": "stream",
          "text": [
            " 40%|████      | 2/5 [05:07<07:35, 151.78s/it]"
          ]
        },
        {
          "name": "stdout",
          "output_type": "stream",
          "text": [
            "Epoch 1/15\n",
            " - 3s - loss: 0.6557 - acc: 0.6173\n",
            "Epoch 2/15\n",
            " - 2s - loss: 0.5772 - acc: 0.7118\n",
            "Epoch 3/15\n",
            " - 2s - loss: 0.5083 - acc: 0.7663\n",
            "Epoch 4/15\n",
            " - 2s - loss: 0.3806 - acc: 0.8465\n",
            "Epoch 5/15\n",
            " - 2s - loss: 0.2961 - acc: 0.8879\n",
            "Epoch 6/15\n",
            " - 2s - loss: 0.2324 - acc: 0.9141\n",
            "Epoch 7/15\n",
            " - 2s - loss: 0.2224 - acc: 0.9206\n",
            "Epoch 8/15\n",
            " - 2s - loss: 0.1839 - acc: 0.9359\n",
            "Epoch 9/15\n",
            " - 2s - loss: 0.1802 - acc: 0.9357\n",
            "Epoch 10/15\n",
            " - 2s - loss: 0.1609 - acc: 0.9463\n",
            "Epoch 11/15\n",
            " - 2s - loss: 0.1508 - acc: 0.9510\n",
            "Epoch 12/15\n",
            " - 2s - loss: 0.1414 - acc: 0.9543\n",
            "Epoch 13/15\n",
            " - 2s - loss: 0.1331 - acc: 0.9562\n",
            "Epoch 14/15\n",
            " - 2s - loss: 0.1262 - acc: 0.9585\n",
            "Epoch 15/15\n",
            " - 2s - loss: 0.1176 - acc: 0.9607\n",
            "22046/22046 [==============================] - 2s 95us/step\n",
            "Epoch 1/15\n",
            " - 4s - loss: 0.6889 - acc: 0.5835\n",
            "Epoch 2/15\n",
            " - 3s - loss: 0.5858 - acc: 0.6984\n",
            "Epoch 3/15\n",
            " - 3s - loss: 0.5163 - acc: 0.7520\n",
            "Epoch 4/15\n",
            " - 3s - loss: 0.4224 - acc: 0.8132\n",
            "Epoch 5/15\n",
            " - 3s - loss: 0.2721 - acc: 0.8949\n",
            "Epoch 6/15\n",
            " - 3s - loss: 0.2347 - acc: 0.9141\n",
            "Epoch 7/15\n",
            " - 3s - loss: 0.1898 - acc: 0.9305\n",
            "Epoch 8/15\n",
            " - 3s - loss: 0.1662 - acc: 0.9390\n",
            "Epoch 9/15\n",
            " - 3s - loss: 0.1437 - acc: 0.9512\n",
            "Epoch 10/15\n",
            " - 3s - loss: 0.1399 - acc: 0.9512\n",
            "Epoch 11/15\n",
            " - 3s - loss: 0.1260 - acc: 0.9571\n",
            "Epoch 12/15\n",
            " - 3s - loss: 0.1159 - acc: 0.9604\n",
            "Epoch 13/15\n",
            " - 3s - loss: 0.1196 - acc: 0.9583\n",
            "Epoch 14/15\n",
            " - 3s - loss: 0.1168 - acc: 0.9607\n",
            "Epoch 15/15\n",
            " - 3s - loss: 0.1022 - acc: 0.9643\n",
            "22046/22046 [==============================] - 2s 113us/step\n",
            "Epoch 1/15\n",
            " - 2s - loss: 0.6702 - acc: 0.5849\n",
            "Epoch 2/15\n",
            " - 1s - loss: 0.5823 - acc: 0.7014\n",
            "Epoch 3/15\n",
            " - 1s - loss: 0.5218 - acc: 0.7571\n",
            "Epoch 4/15\n",
            " - 1s - loss: 0.4468 - acc: 0.8061\n",
            "Epoch 5/15\n",
            " - 1s - loss: 0.3288 - acc: 0.8673\n",
            "Epoch 6/15\n",
            " - 1s - loss: 0.2822 - acc: 0.8911\n",
            "Epoch 7/15\n",
            " - 1s - loss: 0.2433 - acc: 0.9056\n",
            "Epoch 8/15\n",
            " - 1s - loss: 0.2249 - acc: 0.9144\n",
            "Epoch 9/15\n",
            " - 1s - loss: 0.1989 - acc: 0.9223\n",
            "Epoch 10/15\n",
            " - 1s - loss: 0.1889 - acc: 0.9249\n",
            "Epoch 11/15\n",
            " - 1s - loss: 0.1732 - acc: 0.9289\n",
            "Epoch 12/15\n",
            " - 1s - loss: 0.1644 - acc: 0.9322\n",
            "Epoch 13/15\n",
            " - 1s - loss: 0.1555 - acc: 0.9372\n",
            "Epoch 14/15\n",
            " - 1s - loss: 0.1474 - acc: 0.9393\n",
            "Epoch 15/15\n",
            " - 1s - loss: 0.1523 - acc: 0.9375\n",
            "22046/22046 [==============================] - 2s 92us/step\n",
            "Epoch 1/15\n",
            " - 3s - loss: 0.6737 - acc: 0.5759\n",
            "Epoch 2/15\n",
            " - 1s - loss: 0.6032 - acc: 0.6789\n",
            "Epoch 3/15\n",
            " - 1s - loss: 0.5420 - acc: 0.7433\n",
            "Epoch 4/15\n",
            " - 1s - loss: 0.4925 - acc: 0.7810\n",
            "Epoch 5/15\n",
            " - 1s - loss: 0.4154 - acc: 0.8316\n",
            "Epoch 6/15\n",
            " - 1s - loss: 0.3500 - acc: 0.8679\n",
            "Epoch 7/15\n",
            " - 1s - loss: 0.3143 - acc: 0.8794\n",
            "Epoch 8/15\n",
            " - 1s - loss: 0.2493 - acc: 0.9027\n",
            "Epoch 9/15\n",
            " - 1s - loss: 0.2176 - acc: 0.9146\n",
            "Epoch 10/15\n",
            " - 1s - loss: 0.2026 - acc: 0.9232\n",
            "Epoch 11/15\n",
            " - 1s - loss: 0.1927 - acc: 0.9259\n",
            "Epoch 12/15\n",
            " - 1s - loss: 0.1717 - acc: 0.9336\n",
            "Epoch 13/15\n",
            " - 1s - loss: 0.1650 - acc: 0.9363\n",
            "Epoch 14/15\n",
            " - 1s - loss: 0.1542 - acc: 0.9413\n",
            "Epoch 15/15\n",
            " - 1s - loss: 0.1466 - acc: 0.9456\n",
            "22046/22046 [==============================] - 2s 90us/step\n",
            "Epoch 1/15\n",
            " - 4s - loss: 0.6578 - acc: 0.6100\n",
            "Epoch 2/15\n",
            " - 2s - loss: 0.5955 - acc: 0.6947\n",
            "Epoch 3/15\n",
            " - 2s - loss: 0.5604 - acc: 0.7251\n",
            "Epoch 4/15\n",
            " - 2s - loss: 0.4992 - acc: 0.7643\n",
            "Epoch 5/15\n",
            " - 2s - loss: 0.4719 - acc: 0.7859\n",
            "Epoch 6/15\n",
            " - 2s - loss: 0.3747 - acc: 0.8519\n",
            "Epoch 7/15\n",
            " - 3s - loss: 0.3014 - acc: 0.8914\n",
            "Epoch 8/15\n",
            " - 2s - loss: 0.2274 - acc: 0.9195\n",
            "Epoch 9/15\n",
            " - 2s - loss: 0.1981 - acc: 0.9335\n",
            "Epoch 10/15\n",
            " - 2s - loss: 0.1853 - acc: 0.9373\n",
            "Epoch 11/15\n",
            " - 2s - loss: 0.1761 - acc: 0.9418\n",
            "Epoch 12/15\n",
            " - 2s - loss: 0.1639 - acc: 0.9460\n",
            "Epoch 13/15\n",
            " - 2s - loss: 0.1481 - acc: 0.9517\n",
            "Epoch 14/15\n",
            " - 2s - loss: 0.1378 - acc: 0.9555\n",
            "Epoch 15/15\n",
            " - 2s - loss: 0.1221 - acc: 0.9599\n",
            "22046/22046 [==============================] - 3s 139us/step\n"
          ]
        },
        {
          "name": "stderr",
          "output_type": "stream",
          "text": [
            " 60%|██████    | 3/5 [07:47<05:08, 154.47s/it]"
          ]
        },
        {
          "name": "stdout",
          "output_type": "stream",
          "text": [
            "Epoch 1/15\n",
            " - 4s - loss: 0.6712 - acc: 0.6102\n",
            "Epoch 2/15\n",
            " - 2s - loss: 0.5959 - acc: 0.6864\n",
            "Epoch 3/15\n",
            " - 2s - loss: 0.5331 - acc: 0.7439\n",
            "Epoch 4/15\n",
            " - 2s - loss: 0.4149 - acc: 0.8284\n",
            "Epoch 5/15\n",
            " - 2s - loss: 0.2678 - acc: 0.9013\n",
            "Epoch 6/15\n",
            " - 2s - loss: 0.2022 - acc: 0.9305\n",
            "Epoch 7/15\n",
            " - 2s - loss: 0.1667 - acc: 0.9419\n",
            "Epoch 8/15\n",
            " - 2s - loss: 0.1545 - acc: 0.9465\n",
            "Epoch 9/15\n",
            " - 2s - loss: 0.1463 - acc: 0.9491\n",
            "Epoch 10/15\n",
            " - 2s - loss: 0.1369 - acc: 0.9525\n",
            "Epoch 11/15\n",
            " - 2s - loss: 0.1267 - acc: 0.9559\n",
            "Epoch 12/15\n",
            " - 2s - loss: 0.1146 - acc: 0.9614\n",
            "Epoch 13/15\n",
            " - 2s - loss: 0.1140 - acc: 0.9604\n",
            "Epoch 14/15\n",
            " - 2s - loss: 0.1017 - acc: 0.9655\n",
            "Epoch 15/15\n",
            " - 2s - loss: 0.0908 - acc: 0.9687\n",
            "22046/22046 [==============================] - 3s 143us/step\n",
            "Epoch 1/15\n",
            " - 4s - loss: 0.6740 - acc: 0.5913\n",
            "Epoch 2/15\n",
            " - 3s - loss: 0.6114 - acc: 0.6810\n",
            "Epoch 3/15\n",
            " - 3s - loss: 0.5517 - acc: 0.7287\n",
            "Epoch 4/15\n",
            " - 3s - loss: 0.4193 - acc: 0.8297\n",
            "Epoch 5/15\n",
            " - 3s - loss: 0.3720 - acc: 0.8565\n",
            "Epoch 6/15\n",
            " - 3s - loss: 0.2411 - acc: 0.9206\n",
            "Epoch 7/15\n",
            " - 3s - loss: 0.1968 - acc: 0.9349\n",
            "Epoch 8/15\n",
            " - 3s - loss: 0.1632 - acc: 0.9460\n",
            "Epoch 9/15\n",
            " - 3s - loss: 0.1572 - acc: 0.9482\n",
            "Epoch 10/15\n",
            " - 3s - loss: 0.1408 - acc: 0.9527\n",
            "Epoch 11/15\n",
            " - 3s - loss: 0.1296 - acc: 0.9571\n",
            "Epoch 12/15\n",
            " - 3s - loss: 0.1196 - acc: 0.9589\n",
            "Epoch 13/15\n",
            " - 3s - loss: 0.1145 - acc: 0.9618\n",
            "Epoch 14/15\n",
            " - 3s - loss: 0.1104 - acc: 0.9638\n",
            "Epoch 15/15\n",
            " - 3s - loss: 0.1085 - acc: 0.9646\n",
            "22046/22046 [==============================] - 3s 127us/step\n",
            "Epoch 1/15\n",
            " - 4s - loss: 0.6714 - acc: 0.5953\n",
            "Epoch 2/15\n",
            " - 2s - loss: 0.6026 - acc: 0.6781\n",
            "Epoch 3/15\n",
            " - 2s - loss: 0.5141 - acc: 0.7657\n",
            "Epoch 4/15\n",
            " - 2s - loss: 0.3460 - acc: 0.8614\n",
            "Epoch 5/15\n",
            " - 2s - loss: 0.2641 - acc: 0.9002\n",
            "Epoch 6/15\n",
            " - 2s - loss: 0.2210 - acc: 0.9156\n",
            "Epoch 7/15\n",
            " - 2s - loss: 0.2262 - acc: 0.9151\n",
            "Epoch 8/15\n",
            " - 2s - loss: 0.1978 - acc: 0.9254\n",
            "Epoch 9/15\n",
            " - 2s - loss: 0.1805 - acc: 0.9292\n",
            "Epoch 10/15\n",
            " - 2s - loss: 0.1703 - acc: 0.9323\n",
            "Epoch 11/15\n",
            " - 2s - loss: 0.1630 - acc: 0.9340\n",
            "Epoch 12/15\n",
            " - 2s - loss: 0.1525 - acc: 0.9386\n",
            "Epoch 13/15\n",
            " - 2s - loss: 0.1455 - acc: 0.9397\n",
            "Epoch 14/15\n",
            " - 2s - loss: 0.1386 - acc: 0.9482\n",
            "Epoch 15/15\n",
            " - 2s - loss: 0.1272 - acc: 0.9555\n",
            "22046/22046 [==============================] - 3s 124us/step\n",
            "Epoch 1/15\n",
            " - 4s - loss: 0.6800 - acc: 0.5919\n",
            "Epoch 2/15\n",
            " - 2s - loss: 0.5930 - acc: 0.6972\n",
            "Epoch 3/15\n",
            " - 2s - loss: 0.5453 - acc: 0.7309\n",
            "Epoch 4/15\n",
            " - 2s - loss: 0.4574 - acc: 0.7934\n",
            "Epoch 5/15\n",
            " - 2s - loss: 0.3397 - acc: 0.8632\n",
            "Epoch 6/15\n",
            " - 2s - loss: 0.2609 - acc: 0.9007\n",
            "Epoch 7/15\n",
            " - 2s - loss: 0.2337 - acc: 0.9102\n",
            "Epoch 8/15\n",
            " - 2s - loss: 0.1954 - acc: 0.9288\n",
            "Epoch 9/15\n",
            " - 2s - loss: 0.1791 - acc: 0.9359\n",
            "Epoch 10/15\n",
            " - 2s - loss: 0.1760 - acc: 0.9371\n",
            "Epoch 11/15\n",
            " - 2s - loss: 0.1591 - acc: 0.9442\n",
            "Epoch 12/15\n",
            " - 2s - loss: 0.1469 - acc: 0.9477\n",
            "Epoch 13/15\n",
            " - 2s - loss: 0.1493 - acc: 0.9472\n",
            "Epoch 14/15\n",
            " - 2s - loss: 0.1410 - acc: 0.9524\n",
            "Epoch 15/15\n",
            " - 2s - loss: 0.1267 - acc: 0.9570\n",
            "22046/22046 [==============================] - 3s 132us/step\n",
            "Epoch 1/15\n",
            " - 4s - loss: 0.6948 - acc: 0.5587\n",
            "Epoch 2/15\n",
            " - 2s - loss: 0.6293 - acc: 0.6447\n",
            "Epoch 3/15\n",
            " - 2s - loss: 0.5666 - acc: 0.7107\n",
            "Epoch 4/15\n",
            " - 2s - loss: 0.5210 - acc: 0.7576\n",
            "Epoch 5/15\n",
            " - 2s - loss: 0.4432 - acc: 0.8136\n",
            "Epoch 6/15\n",
            " - 2s - loss: 0.3713 - acc: 0.8519\n",
            "Epoch 7/15\n",
            " - 2s - loss: 0.3018 - acc: 0.8833\n",
            "Epoch 8/15\n",
            " - 2s - loss: 0.2586 - acc: 0.9003\n",
            "Epoch 9/15\n",
            " - 2s - loss: 0.2439 - acc: 0.9081\n",
            "Epoch 10/15\n",
            " - 2s - loss: 0.2352 - acc: 0.9088\n",
            "Epoch 11/15\n",
            " - 2s - loss: 0.2117 - acc: 0.9192\n",
            "Epoch 12/15\n",
            " - 2s - loss: 0.1961 - acc: 0.9252\n",
            "Epoch 13/15\n",
            " - 2s - loss: 0.1914 - acc: 0.9290\n",
            "Epoch 14/15\n",
            " - 2s - loss: 0.1769 - acc: 0.9345\n",
            "Epoch 15/15\n",
            " - 2s - loss: 0.1808 - acc: 0.9315\n",
            "22046/22046 [==============================] - 3s 124us/step\n"
          ]
        },
        {
          "name": "stderr",
          "output_type": "stream",
          "text": [
            " 80%|████████  | 4/5 [11:13<02:49, 169.68s/it]"
          ]
        },
        {
          "name": "stdout",
          "output_type": "stream",
          "text": [
            "Epoch 1/15\n",
            " - 4s - loss: 0.6656 - acc: 0.5930\n",
            "Epoch 2/15\n",
            " - 2s - loss: 0.5764 - acc: 0.7029\n",
            "Epoch 3/15\n",
            " - 2s - loss: 0.5029 - acc: 0.7593\n",
            "Epoch 4/15\n",
            " - 2s - loss: 0.3602 - acc: 0.8514\n",
            "Epoch 5/15\n",
            " - 2s - loss: 0.2392 - acc: 0.9116\n",
            "Epoch 6/15\n",
            " - 2s - loss: 0.2066 - acc: 0.9242\n",
            "Epoch 7/15\n",
            " - 2s - loss: 0.1687 - acc: 0.9413\n",
            "Epoch 8/15\n",
            " - 2s - loss: 0.1497 - acc: 0.9473\n",
            "Epoch 9/15\n",
            " - 2s - loss: 0.1357 - acc: 0.9521\n",
            "Epoch 10/15\n",
            " - 2s - loss: 0.1262 - acc: 0.9561\n",
            "Epoch 11/15\n",
            " - 2s - loss: 0.1150 - acc: 0.9604\n",
            "Epoch 12/15\n",
            " - 2s - loss: 0.1041 - acc: 0.9646\n",
            "Epoch 13/15\n",
            " - 2s - loss: 0.0980 - acc: 0.9672\n",
            "Epoch 14/15\n",
            " - 2s - loss: 0.0826 - acc: 0.9727\n",
            "Epoch 15/15\n",
            " - 2s - loss: 0.0771 - acc: 0.9736\n",
            "22046/22046 [==============================] - 3s 136us/step\n",
            "Epoch 1/15\n",
            " - 5s - loss: 0.6889 - acc: 0.5721\n",
            "Epoch 2/15\n",
            " - 3s - loss: 0.6005 - acc: 0.6829\n",
            "Epoch 3/15\n",
            " - 3s - loss: 0.5531 - acc: 0.7207\n",
            "Epoch 4/15\n",
            " - 3s - loss: 0.4859 - acc: 0.7699\n",
            "Epoch 5/15\n",
            " - 3s - loss: 0.3664 - acc: 0.8453\n",
            "Epoch 6/15\n",
            " - 3s - loss: 0.2572 - acc: 0.9018\n",
            "Epoch 7/15\n",
            " - 3s - loss: 0.2081 - acc: 0.9247\n",
            "Epoch 8/15\n",
            " - 3s - loss: 0.1855 - acc: 0.9336\n",
            "Epoch 9/15\n",
            " - 3s - loss: 0.1635 - acc: 0.9414\n",
            "Epoch 10/15\n",
            " - 3s - loss: 0.1495 - acc: 0.9475\n",
            "Epoch 11/15\n",
            " - 3s - loss: 0.1387 - acc: 0.9516\n",
            "Epoch 12/15\n",
            " - 3s - loss: 0.1527 - acc: 0.9446\n",
            "Epoch 13/15\n",
            " - 3s - loss: 0.1450 - acc: 0.9505\n",
            "Epoch 14/15\n",
            " - 3s - loss: 0.1205 - acc: 0.9596\n",
            "Epoch 15/15\n",
            " - 3s - loss: 0.1168 - acc: 0.9610\n",
            "22046/22046 [==============================] - 3s 134us/step\n",
            "Epoch 1/15\n",
            " - 5s - loss: 0.6903 - acc: 0.5791\n",
            "Epoch 2/15\n",
            " - 3s - loss: 0.6066 - acc: 0.6789\n",
            "Epoch 3/15\n",
            " - 3s - loss: 0.5428 - acc: 0.7383\n",
            "Epoch 4/15\n",
            " - 3s - loss: 0.4295 - acc: 0.8260\n",
            "Epoch 5/15\n",
            " - 3s - loss: 0.3315 - acc: 0.8763\n",
            "Epoch 6/15\n",
            " - 3s - loss: 0.2777 - acc: 0.9018\n",
            "Epoch 7/15\n",
            " - 3s - loss: 0.2408 - acc: 0.9144\n",
            "Epoch 8/15\n",
            " - 3s - loss: 0.2387 - acc: 0.9153\n",
            "Epoch 9/15\n",
            " - 3s - loss: 0.2052 - acc: 0.9237\n",
            "Epoch 10/15\n",
            " - 3s - loss: 0.1889 - acc: 0.9347\n",
            "Epoch 11/15\n",
            " - 3s - loss: 0.1809 - acc: 0.9351\n",
            "Epoch 12/15\n",
            " - 3s - loss: 0.1656 - acc: 0.9389\n",
            "Epoch 13/15\n",
            " - 3s - loss: 0.1496 - acc: 0.9424\n",
            "Epoch 14/15\n",
            " - 3s - loss: 0.1428 - acc: 0.9427\n",
            "Epoch 15/15\n",
            " - 3s - loss: 0.1615 - acc: 0.9362\n",
            "22046/22046 [==============================] - 3s 152us/step\n",
            "Epoch 1/15\n",
            " - 5s - loss: 0.6881 - acc: 0.5769\n",
            "Epoch 2/15\n",
            " - 2s - loss: 0.5974 - acc: 0.6860\n",
            "Epoch 3/15\n",
            " - 2s - loss: 0.5598 - acc: 0.7295\n",
            "Epoch 4/15\n",
            " - 2s - loss: 0.4505 - acc: 0.8064\n",
            "Epoch 5/15\n",
            " - 2s - loss: 0.3385 - acc: 0.8683\n",
            "Epoch 6/15\n",
            " - 2s - loss: 0.2671 - acc: 0.8997\n",
            "Epoch 7/15\n",
            " - 2s - loss: 0.2342 - acc: 0.9133\n",
            "Epoch 8/15\n",
            " - 2s - loss: 0.2117 - acc: 0.9203\n",
            "Epoch 9/15\n",
            " - 2s - loss: 0.1937 - acc: 0.9263\n",
            "Epoch 10/15\n",
            " - 2s - loss: 0.1814 - acc: 0.9296\n",
            "Epoch 11/15\n",
            " - 2s - loss: 0.1723 - acc: 0.9335\n",
            "Epoch 12/15\n",
            " - 2s - loss: 0.1562 - acc: 0.9382\n",
            "Epoch 13/15\n",
            " - 2s - loss: 0.1459 - acc: 0.9418\n",
            "Epoch 14/15\n",
            " - 2s - loss: 0.1473 - acc: 0.9385\n",
            "Epoch 15/15\n",
            " - 2s - loss: 0.1443 - acc: 0.9412\n",
            "22046/22046 [==============================] - 3s 139us/step\n",
            "Epoch 1/15\n",
            " - 4s - loss: 0.6642 - acc: 0.6064\n",
            "Epoch 2/15\n",
            " - 1s - loss: 0.5774 - acc: 0.7052\n",
            "Epoch 3/15\n",
            " - 1s - loss: 0.5091 - acc: 0.7607\n",
            "Epoch 4/15\n",
            " - 1s - loss: 0.4125 - acc: 0.8268\n",
            "Epoch 5/15\n",
            " - 1s - loss: 0.3189 - acc: 0.8746\n",
            "Epoch 6/15\n",
            " - 1s - loss: 0.2467 - acc: 0.9034\n",
            "Epoch 7/15\n",
            " - 1s - loss: 0.2104 - acc: 0.9184\n",
            "Epoch 8/15\n",
            " - 1s - loss: 0.1896 - acc: 0.9255\n",
            "Epoch 9/15\n",
            " - 1s - loss: 0.1867 - acc: 0.9295\n",
            "Epoch 10/15\n",
            " - 1s - loss: 0.1622 - acc: 0.9366\n",
            "Epoch 11/15\n",
            " - 1s - loss: 0.1544 - acc: 0.9402\n",
            "Epoch 12/15\n",
            " - 1s - loss: 0.1409 - acc: 0.9426\n",
            "Epoch 13/15\n",
            " - 1s - loss: 0.1384 - acc: 0.9430\n",
            "Epoch 14/15\n",
            " - 1s - loss: 0.1305 - acc: 0.9459\n",
            "Epoch 15/15\n",
            " - 1s - loss: 0.1225 - acc: 0.9475\n",
            "22046/22046 [==============================] - 3s 137us/step\n"
          ]
        },
        {
          "name": "stderr",
          "output_type": "stream",
          "text": [
            "                                              "
          ]
        },
        {
          "name": "stdout",
          "output_type": "stream",
          "text": [
            "\n",
            " accuracy 0.9834890682738608\n",
            "start_point = {'keras.compile.0': {'loss': ['binary_crossentropy'], 'optimizer': ['adam']}, 'keras.fit.0': {'epochs': [15], 'batch_size': [500], 'verbose': [2]}, 'keras.layers.Conv2D.1': {'filters': [128], 'kernel_size': [(3, 3)], 'activation': ['relu'], 'input_shape': [(50, 50, 3)]}, 'keras.layers.MaxPooling2D.2': {'pool_size': [(2, 2)]}, 'keras.layers.Conv2D.3': {'filters': [128], 'kernel_size': [(3, 3)], 'activation': ['relu']}, 'keras.layers.MaxPooling2D.4': {'pool_size': [(2, 2)]}, 'keras.layers.Flatten.5': {}, 'keras.layers.Dense.6': {'units': [90], 'activation': ['relu']}, 'keras.layers.Dropout.7': {'rate': [0.2]}, 'keras.layers.Dense.8': {'units': [2], 'activation': ['softmax']}}\n",
            "Epoch 1/1\n",
            "  896/22046 [>.............................] - ETA: 3s - loss: 0.2519 - acc: 0.9152"
          ]
        },
        {
          "name": "stderr",
          "output_type": "stream",
          "text": [
            "\r"
          ]
        },
        {
          "name": "stdout",
          "output_type": "stream",
          "text": [
            "22046/22046 [==============================] - 4s 174us/step - loss: 0.1928 - acc: 0.9311\n",
            "time: 909.6929335594177\n",
            "5512/5512 [==============================] - 0s 85us/step\n",
            "test score: 0.9426705370101597\n"
          ]
        }
      ]
    },
    {
      "cell_type": "markdown",
      "metadata": {
        "id": "An1JGm8FvkSj"
      },
      "source": [
        "# THANK YOU!"
      ]
    }
  ]
}